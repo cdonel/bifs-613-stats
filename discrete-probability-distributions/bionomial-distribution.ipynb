{
 "cells": [
  {
   "cell_type": "code",
   "execution_count": 24,
   "metadata": {},
   "outputs": [
    {
     "name": "stdout",
     "output_type": "stream",
     "text": [
      "The probability of 0 successive wins and 10 losses is 0.0009765625\n",
      "The probability of 1 successive wins and 9 losses is 0.009765625\n",
      "The probability of 2 successive wins and 8 losses is 0.0439453125\n",
      "The probability of 3 successive wins and 7 losses is 0.1171875\n",
      "The probability of 4 successive wins and 6 losses is 0.205078125\n",
      "The probability of 5 successive wins and 5 losses is 0.24609375\n",
      "The probability of 6 successive wins and 4 losses is 0.205078125\n",
      "The probability of 7 successive wins and 3 losses is 0.1171875\n",
      "The probability of 8 successive wins and 2 losses is 0.0439453125\n",
      "The probability of 9 successive wins and 1 losses is 0.009765625\n",
      "The probability of 10 successive wins and 0 losses is 0.0009765625\n"
     ]
    },
    {
     "data": {
      "image/png": "[encoded data removed]",
      "text/plain": [
       "<Figure size 432x288 with 1 Axes>"
      ]
     },
     "metadata": {
      "needs_background": "light"
     },
     "output_type": "display_data"
    }
   ],
   "source": [
    "import math\n",
    "import matplotlib.pyplot as plt\n",
    "\n",
    "\n",
    "# This will display the binomial distribution of winning a given number of times successively. \n",
    "\n",
    "\n",
    "# Number of bernoulli trials to perform.\n",
    "\n",
    "trials = 10\n",
    "\n",
    "\n",
    "# Probability of winning of losing any given coin flip.\n",
    "\n",
    "probability = 0.5\n",
    "\n",
    "\n",
    "# Number of successive wins.\n",
    "\n",
    "wins = list(range(0, 11))\n",
    "\n",
    "\n",
    "# Empty array to hold probability mass function values. \n",
    "\n",
    "pmf_array = []\n",
    "\n",
    "\n",
    "for i in wins:\n",
    "\n",
    "    # The probability of obtaining a given number of wins in successive order.\n",
    "\n",
    "    probability_success = probability**(i) * (1 - probability)**(trials - i)\n",
    "\n",
    "\n",
    "    # math.factorial will not accept math.factorial(trials - wins)\n",
    "\n",
    "    failures = trials - i\n",
    "\n",
    "\n",
    "    # The given number of ways that any number of wins can be achieved.\n",
    "\n",
    "    number_of_ways_to_win = math.factorial(trials) / (math.factorial(failures) * math.factorial(i))\n",
    "\n",
    "\n",
    "    # Probability mass function. Probability of winning i number of successive wins given a set number of trials.    \n",
    "    \n",
    "    prob_mass_func = number_of_ways_to_win * probability_success\n",
    "    \n",
    "    \n",
    "    # Prints out the resulting probability for winning a given number of successive time and lossing the rest. \n",
    "    \n",
    "    print(\"The probability of {} successive wins and {} losses is {}\".format(i, trials - i, prob_mass_func))\n",
    "    \n",
    "    \n",
    "    # Adds probability mass function value to pmf_array\n",
    "    \n",
    "    pmf_array.append(prob_mass_func)\n",
    "    \n",
    "    \n",
    "# Generates a bar graph showing the outcomes (number of successive wins) \n",
    "\n",
    "# and their associated probabilities using a probability mass function.\n",
    "\n",
    "fig = plt.figure()\n",
    "\n",
    "ax = fig.add_axes([0,0,1,1])\n",
    "\n",
    "ax.bar(\n",
    "    \n",
    "    wins, \n",
    "    \n",
    "    pmf_array)\n",
    "\n",
    "plt.show()"
   ]
  },
  {
   "cell_type": "code",
   "execution_count": null,
   "metadata": {},
   "outputs": [],
   "source": []
  }
 ],
 "metadata": {
  "kernelspec": {
   "display_name": "Python 3",
   "language": "python",
   "name": "python3"
  },
  "language_info": {
   "codemirror_mode": {
    "name": "ipython",
    "version": 3
   },
   "file_extension": ".py",
   "mimetype": "text/x-python",
   "name": "python",
   "nbconvert_exporter": "python",
   "pygments_lexer": "ipython3",
   "version": "3.7.11"
  }
 },
 "nbformat": 4,
 "nbformat_minor": 2
}
