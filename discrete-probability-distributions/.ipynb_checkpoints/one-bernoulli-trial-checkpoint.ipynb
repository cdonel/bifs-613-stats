{
 "cells": [
  {
   "cell_type": "markdown",
   "metadata": {},
   "source": [
    "This example involves a single bernoulli trial. The scenario is a gambler that wins or loses 1 dollar depending on the toss of a coin. If the coin is heads the gambler will win 1 dollar. If the coin is tails the gamblers will lose 1 dollar (or win -1 dollar). "
   ]
  },
  {
   "cell_type": "code",
   "execution_count": 1,
   "metadata": {},
   "outputs": [],
   "source": [
    "import numpy as np\n",
    "import matplotlib.pyplot as plt \n",
    "\n",
    "# Coin flip probability\n",
    "probability = 0.5\n",
    "n = 10000\n",
    "wins = 0\n",
    "loses = 0\n",
    "\n",
    "def coinFlip(p):\n",
    "    result = np.random.binomial(1, p)\n",
    "    return result\n",
    "\n",
    "def gambleOutcome(coin_flip):\n",
    "    if coin_flip == 0:\n",
    "        return False\n",
    "    else:\n",
    "        return True\n",
    "\n",
    "for i in range(0, n):\n",
    "    outcome = gambleOutcome(coinFlip(probability))\n",
    "    if outcome == True:\n",
    "        wins += 1\n",
    "    else:\n",
    "        loses += 1"
   ]
  },
  {
   "cell_type": "code",
   "execution_count": 4,
   "metadata": {},
   "outputs": [
    {
     "data": {
      "image/png": "[encoded data removed]",
      "text/plain": [
       "<Figure size 432x288 with 1 Axes>"
      ]
     },
     "metadata": {
      "needs_background": "light"
     },
     "output_type": "display_data"
    }
   ],
   "source": [
    "fig = plt.figure()\n",
    "ax = fig.add_axes([0,0,1,1])\n",
    "outcomes = ['Number of wins', 'Number of loses']\n",
    "gambles = [wins, loses]\n",
    "ax.bar(outcomes,gambles)\n",
    "plt.show()"
   ]
  },
  {
   "cell_type": "code",
   "execution_count": null,
   "metadata": {},
   "outputs": [],
   "source": []
  }
 ],
 "metadata": {
  "kernelspec": {
   "display_name": "Python 3",
   "language": "python",
   "name": "python3"
  },
  "language_info": {
   "codemirror_mode": {
    "name": "ipython",
    "version": 3
   },
   "file_extension": ".py",
   "mimetype": "text/x-python",
   "name": "python",
   "nbconvert_exporter": "python",
   "pygments_lexer": "ipython3",
   "version": "3.7.11"
  }
 },
 "nbformat": 4,
 "nbformat_minor": 2
}
