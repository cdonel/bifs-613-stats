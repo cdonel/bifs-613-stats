{
 "cells": [
  {
   "cell_type": "markdown",
   "metadata": {},
   "source": [
    "\n",
    "**<center> $P_{S}(s)=p^{(1+s)/2}(1-p)^{(1-s)/2}, s=-1,+1$ and $p=0.5$ </center>**\n",
    "\n",
    "**<center> If $s=-1$ then $P_{S}(s)=0.5^{(1-1)/2}(1-0.5)^{(1+1)/2}$ </center>**\n",
    "\n",
    "**<center> $P_{S}(s)=0.5$ if $s=-1$ </center>**\n",
    "\n",
    "**<center> If $s=+1$ then $P_{S}(s)=0.5^{(1+1)/2}(1-0.5)^{(1-1)/2}$ </center>**\n",
    "\n",
    "**<center> $P_{S}(s)=0.5$ if $s=+1$ </center>**"
   ]
  },
  {
   "cell_type": "markdown",
   "metadata": {},
   "source": [
    "# <center>Single bernoulli trial</center>\n",
    "\n",
    "> The purpose of this exercise is to obtain the probability obtained using a single bernoulli trial.\n",
    "This example is intended to illustrate the probability of a single bernoulli trial. The scenario is a gambler that wins or loses 1 dollar depending on the toss of a coin. If the coin is heads the gambler will win 1 dollar. If the coin is tails the gamblers will lose 1 dollar (or win -1 dollar). "
   ]
  },
  {
   "cell_type": "code",
   "execution_count": null,
   "metadata": {},
   "outputs": [],
   "source": [
    "import numpy as np\n",
    "import matplotlib.pyplot as plt\n",
    "\n",
    "# Coin flip probability\n",
    "probability = 0.5\n",
    "\n",
    "# Number of flips\n",
    "n = 1000000\n",
    "\n",
    "# Initial values\n",
    "wins = 0\n",
    "loses = 0\n",
    "\n",
    "# The function coinFlip will determine a value of 0 or 1 based on a 50% probability. \n",
    "# The value 0 represents tails. The value 1 represents heads. \n",
    "def coinFlip(p):\n",
    "    result = np.random.binomial(1, p)\n",
    "    return result\n",
    "\n",
    "# The function gambleOutcome determines if the \"gambler\" wins 1$ or loses 1$ based on the outcome of the coinFlip function. \n",
    "# If the input is 0, or tails, then the gamblerOutcome returns False. \n",
    "# If the input is 1, or heads, then the gamblerOutcome returns True. \n",
    "def gambleOutcome(coin_flip):\n",
    "    if coin_flip == 0:\n",
    "        return False\n",
    "    else:\n",
    "        return True\n",
    "\n",
    "# \n",
    "for i in range(0, n):\n",
    "    outcome = gambleOutcome(coinFlip(probability))\n",
    "    if outcome == True:\n",
    "        wins += 1\n",
    "    else:\n",
    "        loses += 1"
   ]
  },
  {
   "cell_type": "code",
   "execution_count": null,
   "metadata": {},
   "outputs": [],
   "source": [
    "fig = plt.figure()\n",
    "ax = fig.add_axes([0,0,1,1])\n",
    "outcomes = ['Number of wins', 'Number of loses']\n",
    "gambles = [wins, loses]\n",
    "ax.bar(outcomes,gambles)\n",
    "plt.show()"
   ]
  },
  {
   "cell_type": "markdown",
   "metadata": {},
   "source": [
    "> From the bar graph above it is easy to see that the data trends to a 50% probability of winning or losing based on n coin flips."
   ]
  },
  {
   "cell_type": "code",
   "execution_count": null,
   "metadata": {},
   "outputs": [],
   "source": [
    "print('The percentage of wins is {}'.format(wins/n))\n",
    "print('\\nThe percentage of loses is {}'.format(loses/n))"
   ]
  },
  {
   "cell_type": "code",
   "execution_count": null,
   "metadata": {},
   "outputs": [],
   "source": []
  }
 ],
 "metadata": {
  "kernelspec": {
   "display_name": "Python 3",
   "language": "python",
   "name": "python3"
  },
  "language_info": {
   "codemirror_mode": {
    "name": "ipython",
    "version": 3
   },
   "file_extension": ".py",
   "mimetype": "text/x-python",
   "name": "python",
   "nbconvert_exporter": "python",
   "pygments_lexer": "ipython3",
   "version": "3.7.11"
  }
 },
 "nbformat": 4,
 "nbformat_minor": 2
}
