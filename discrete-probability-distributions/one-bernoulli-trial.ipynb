{
 "cells": [
  {
   "cell_type": "markdown",
   "metadata": {},
   "source": [
    "\n",
    "**<center> $P_{S}(s)=p^{(1+s)/2}(1-p)^{(1-s)/2}, s=-1,+1$ and $p=0.5$ </center>**\n",
    "\n",
    "**<center> If $s=-1$ then $P_{S}(s)=0.5^{(1-1)/2}(1-0.5)^{(1+1)/2}$ </center>**\n",
    "\n",
    "**<center> $P_{S}(s)=0.5$ if $s=-1$ </center>**\n",
    "\n",
    "**<center> If $s=+1$ then $P_{S}(s)=0.5^{(1+1)/2}(1-0.5)^{(1-1)/2}$ </center>**\n",
    "\n",
    "**<center> $P_{S}(s)=0.5$ if $s=+1$ </center>**"
   ]
  },
  {
   "cell_type": "markdown",
   "metadata": {},
   "source": [
    "# <center>Single bernoulli trial</center>\n",
    "\n",
    "> The purpose of this exercise is to obtain the probability obtained using a single bernoulli trial.\n",
    "This example is intended to illustrate the probability of a single bernoulli trial. The scenario is a gambler that wins or loses 1 dollar depending on the toss of a coin. If the coin is heads the gambler will win 1 dollar. If the coin is tails the gamblers will lose 1 dollar (or win -1 dollar). "
   ]
  },
  {
   "cell_type": "code",
   "execution_count": 6,
   "metadata": {},
   "outputs": [
    {
     "data": {
      "image/png": "[encoded data removed]",
      "text/plain": [
       "<Figure size 432x288 with 1 Axes>"
      ]
     },
     "metadata": {
      "needs_background": "light"
     },
     "output_type": "display_data"
    },
    {
     "name": "stdout",
     "output_type": "stream",
     "text": [
      "The percentage of wins is 50.05 %\n",
      "\n",
      "The percentage of losses is 49.95 %\n"
     ]
    }
   ],
   "source": [
    "import numpy as np\n",
    "import matplotlib.pyplot as plt\n",
    "\n",
    "# Coin flip probability\n",
    "\n",
    "probability = 0.5\n",
    "\n",
    "\n",
    "# Number of flips\n",
    "\n",
    "n = 1000000\n",
    "\n",
    "\n",
    "# Initial values\n",
    "\n",
    "wins = 0\n",
    "\n",
    "losses = 0\n",
    "\n",
    "\n",
    "# The function coinFlip will determine a value of 0 or 1 based on a 50% probability. \n",
    "\n",
    "# The value 0 represents tails. The value 1 represents heads. \n",
    "\n",
    "def coinFlip(p):\n",
    "    \n",
    "    result = np.random.binomial(1, p)\n",
    "    \n",
    "    return result\n",
    "\n",
    "# The function gambleOutcome determines if the \"gambler\" wins 1$ or loses 1$ based on the outcome of the coinFlip function.\n",
    "\n",
    "def gambleOutcome(coin_flip):\n",
    "    \n",
    "    \n",
    "    # If the input is 0, or tails, then return False. The Gambler lost.\n",
    "    \n",
    "    if coin_flip == 0:\n",
    "        \n",
    "        return False\n",
    "    \n",
    "    \n",
    "    # If the input is not 0, or heads, then return True. The Gambler won.\n",
    "    \n",
    "    else:\n",
    "        \n",
    "        return True\n",
    "\n",
    "    \n",
    "# Tosses coin based on the number of flips defined by n.\n",
    "\n",
    "for flip in range(1, n + 1):\n",
    "    \n",
    "    \n",
    "    # The outcome of bet based on the probability of a coin flip.\n",
    "    \n",
    "    outcome = gambleOutcome(\n",
    "        \n",
    "        coinFlip(\n",
    "            \n",
    "            probability)\n",
    "    )\n",
    "    \n",
    "    \n",
    "    # If the outcome is True (bet won) then record the win.\n",
    "    \n",
    "    if outcome == True:\n",
    "        \n",
    "        wins += 1\n",
    "        \n",
    "    \n",
    "    # If the outcome is False (bet lost) then record the loss. \n",
    "        \n",
    "    else:\n",
    "        \n",
    "        losses += 1\n",
    "        \n",
    "\n",
    "# Generates bar graph for the number of wins and losses.\n",
    "\n",
    "fig = plt.figure()\n",
    "\n",
    "ax = fig.add_axes([0,0,1,1])\n",
    "\n",
    "outcomes = [\n",
    "    \n",
    "    'Number of wins', \n",
    "    \n",
    "    'Number of losses']\n",
    "\n",
    "gambles = [\n",
    "    \n",
    "    wins, \n",
    "    \n",
    "    losses]\n",
    "\n",
    "ax.bar(\n",
    "    \n",
    "    outcomes, \n",
    "    \n",
    "    gambles)\n",
    "\n",
    "plt.show()\n",
    "\n",
    "\n",
    "# Prints out the percentage of wins and losses.\n",
    "\n",
    "print('The percentage of wins is {} %'.format((wins/n)*100))\n",
    "\n",
    "print('\\nThe percentage of losses is {} %'.format((losses/n)*100))\n"
   ]
  },
  {
   "cell_type": "code",
   "execution_count": null,
   "metadata": {},
   "outputs": [],
   "source": []
  }
 ],
 "metadata": {
  "kernelspec": {
   "display_name": "Python 3",
   "language": "python",
   "name": "python3"
  },
  "language_info": {
   "codemirror_mode": {
    "name": "ipython",
    "version": 3
   },
   "file_extension": ".py",
   "mimetype": "text/x-python",
   "name": "python",
   "nbconvert_exporter": "python",
   "pygments_lexer": "ipython3",
   "version": "3.7.11"
  }
 },
 "nbformat": 4,
 "nbformat_minor": 2
}
