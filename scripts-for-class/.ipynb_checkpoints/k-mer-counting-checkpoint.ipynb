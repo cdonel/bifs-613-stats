{
 "cells": [
  {
   "cell_type": "code",
   "execution_count": 2,
   "metadata": {},
   "outputs": [
    {
     "name": "stdout",
     "output_type": "stream",
     "text": [
      "If k=1 then ['A', 'T', 'T', 'A', 'C', 'C', 'A', 'G', 'A', 'G', 'A', 'C', 'G', 'A', 'T', 'T', 'A', 'C', 'G']\n",
      "If k=2 then ['AT', 'TT', 'TA', 'AC', 'CC', 'CA', 'AG', 'GA', 'AG', 'GA', 'AC', 'CG', 'GA', 'AT', 'TT', 'TA', 'AC', 'CG']\n",
      "If k=3 then ['ATT', 'TTA', 'TAC', 'ACC', 'CCA', 'CAG', 'AGA', 'GAG', 'AGA', 'GAC', 'ACG', 'CGA', 'GAT', 'ATT', 'TTA', 'TAC', 'ACG']\n",
      "If k=4 then ['ATTA', 'TTAC', 'TACC', 'ACCA', 'CCAG', 'CAGA', 'AGAG', 'GAGA', 'AGAC', 'GACG', 'ACGA', 'CGAT', 'GATT', 'ATTA', 'TTAC', 'TACG']\n",
      "If k=5 then ['ATTAC', 'TTACC', 'TACCA', 'ACCAG', 'CCAGA', 'CAGAG', 'AGAGA', 'GAGAC', 'AGACG', 'GACGA', 'ACGAT', 'CGATT', 'GATTA', 'ATTAC', 'TTACG']\n",
      "If k=6 then ['ATTACC', 'TTACCA', 'TACCAG', 'ACCAGA', 'CCAGAG', 'CAGAGA', 'AGAGAC', 'GAGACG', 'AGACGA', 'GACGAT', 'ACGATT', 'CGATTA', 'GATTAC', 'ATTACG']\n",
      "If k=7 then ['ATTACCA', 'TTACCAG', 'TACCAGA', 'ACCAGAG', 'CCAGAGA', 'CAGAGAC', 'AGAGACG', 'GAGACGA', 'AGACGAT', 'GACGATT', 'ACGATTA', 'CGATTAC', 'GATTACG']\n",
      "If k=8 then ['ATTACCAG', 'TTACCAGA', 'TACCAGAG', 'ACCAGAGA', 'CCAGAGAC', 'CAGAGACG', 'AGAGACGA', 'GAGACGAT', 'AGACGATT', 'GACGATTA', 'ACGATTAC', 'CGATTACG']\n",
      "If k=9 then ['ATTACCAGA', 'TTACCAGAG', 'TACCAGAGA', 'ACCAGAGAC', 'CCAGAGACG', 'CAGAGACGA', 'AGAGACGAT', 'GAGACGATT', 'AGACGATTA', 'GACGATTAC', 'ACGATTACG']\n",
      "If k=10 then ['ATTACCAGAG', 'TTACCAGAGA', 'TACCAGAGAC', 'ACCAGAGACG', 'CCAGAGACGA', 'CAGAGACGAT', 'AGAGACGATT', 'GAGACGATTA', 'AGACGATTAC', 'GACGATTACG']\n",
      "If k=11 then ['ATTACCAGAGA', 'TTACCAGAGAC', 'TACCAGAGACG', 'ACCAGAGACGA', 'CCAGAGACGAT', 'CAGAGACGATT', 'AGAGACGATTA', 'GAGACGATTAC', 'AGACGATTACG']\n",
      "If k=12 then ['ATTACCAGAGAC', 'TTACCAGAGACG', 'TACCAGAGACGA', 'ACCAGAGACGAT', 'CCAGAGACGATT', 'CAGAGACGATTA', 'AGAGACGATTAC', 'GAGACGATTACG']\n",
      "If k=13 then ['ATTACCAGAGACG', 'TTACCAGAGACGA', 'TACCAGAGACGAT', 'ACCAGAGACGATT', 'CCAGAGACGATTA', 'CAGAGACGATTAC', 'AGAGACGATTACG']\n",
      "If k=14 then ['ATTACCAGAGACGA', 'TTACCAGAGACGAT', 'TACCAGAGACGATT', 'ACCAGAGACGATTA', 'CCAGAGACGATTAC', 'CAGAGACGATTACG']\n",
      "If k=15 then ['ATTACCAGAGACGAT', 'TTACCAGAGACGATT', 'TACCAGAGACGATTA', 'ACCAGAGACGATTAC', 'CCAGAGACGATTACG']\n",
      "If k=16 then ['ATTACCAGAGACGATT', 'TTACCAGAGACGATTA', 'TACCAGAGACGATTAC', 'ACCAGAGACGATTACG']\n",
      "If k=17 then ['ATTACCAGAGACGATTA', 'TTACCAGAGACGATTAC', 'TACCAGAGACGATTACG']\n",
      "If k=18 then ['ATTACCAGAGACGATTAC', 'TTACCAGAGACGATTACG']\n",
      "If k=19 then ['ATTACCAGAGACGATTACG']\n"
     ]
    }
   ],
   "source": [
    "# Sequence of interest.\n",
    "\n",
    "dna_string = \"ATTACCAGAGACGATTACG\"\n",
    "\n",
    "\n",
    "# Empty array to hold kmer sequences (kmer=4, 5, ...). Is cleared each typer the kmer value is changed.\n",
    "\n",
    "kmer_array = []\n",
    "\n",
    "\n",
    "# Outter loop determines the kmer value and is used to define the end of the sliding window.\n",
    "\n",
    "for kmer in range(\n",
    "    \n",
    "    1, len(dna_string) + 1):\n",
    "    \n",
    "    \n",
    "    # Inner loop is used to define start and end of sliding window.\n",
    "    \n",
    "    for i in range(\n",
    "        \n",
    "        0, len(dna_string)):\n",
    "        \n",
    "        \n",
    "        window_start = i\n",
    "        \n",
    "        window_end = i + kmer\n",
    "        \n",
    "        \n",
    "        # If the end of the sliding window reaches the end of the dna_sequence then break the loop.\n",
    "        \n",
    "        if window_end > len(dna_string):\n",
    "            \n",
    "            break\n",
    "        \n",
    "        \n",
    "        # slice dna_string using start and end of sliding window and add to kmer_array.\n",
    "            \n",
    "        else:\n",
    "            \n",
    "            kmer_array.append(\n",
    "                \n",
    "                dna_string[\n",
    "                    \n",
    "                    window_start:window_end]\n",
    "                \n",
    "            )\n",
    "\n",
    "    \n",
    "    # Prints out the kmer value along with the kmer sequences that are in kmer_array.\n",
    "        \n",
    "    print(\"If k={} then {}\".format(kmer, kmer_array))\n",
    "    \n",
    "    \n",
    "    # Clears the contents of the kmer_array so that sequences for the next kmer value can be added. \n",
    "    \n",
    "    kmer_array.clear()\n",
    "        \n"
   ]
  },
  {
   "cell_type": "code",
   "execution_count": 6,
   "metadata": {},
   "outputs": [
    {
     "name": "stdout",
     "output_type": "stream",
     "text": [
      "Kmer CAG occurs 1 times.\n",
      "Kmer ATT occurs 2 times.\n",
      "Kmer AGA occurs 1 times.\n",
      "Kmer ACG occurs 2 times.\n",
      "Kmer GAT occurs 1 times.\n",
      "Kmer CCA occurs 1 times.\n",
      "Kmer CGA occurs 1 times.\n",
      "Kmer ACC occurs 1 times.\n",
      "Kmer TAC occurs 2 times.\n",
      "Kmer GAC occurs 1 times.\n",
      "Kmer GAG occurs 1 times.\n",
      "Kmer TTA occurs 2 times.\n"
     ]
    }
   ],
   "source": [
    "# Count the number of times a specific kmer occurs in a DNA string.\n",
    "\n",
    "\n",
    "# Remove any duplicated values from the kmer list by creating a set.\n",
    "\n",
    "kmer_set = set(['ATT', 'TTA', 'TAC', 'ACC', 'CCA', 'CAG', 'AGA', 'GAG', \n",
    "          'AGA', 'GAC', 'ACG', 'CGA', 'GAT', 'ATT', 'TTA', 'TAC', 'ACG'])\n",
    "\n",
    "\n",
    "# Iterate over each kmer and count the number of times it occurs in the DNA string.\n",
    "\n",
    "for kmer in kmer_3:\n",
    "    \n",
    "    print('Kmer {} occurs {} times.'.format(kmer, dna_string.count(kmer)))"
   ]
  },
  {
   "cell_type": "code",
   "execution_count": null,
   "metadata": {},
   "outputs": [],
   "source": []
  }
 ],
 "metadata": {
  "kernelspec": {
   "display_name": "Python 3",
   "language": "python",
   "name": "python3"
  },
  "language_info": {
   "codemirror_mode": {
    "name": "ipython",
    "version": 3
   },
   "file_extension": ".py",
   "mimetype": "text/x-python",
   "name": "python",
   "nbconvert_exporter": "python",
   "pygments_lexer": "ipython3",
   "version": "3.7.11"
  }
 },
 "nbformat": 4,
 "nbformat_minor": 2
}
